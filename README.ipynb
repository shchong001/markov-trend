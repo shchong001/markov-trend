{
 "cells": [
  {
   "cell_type": "markdown",
   "metadata": {},
   "source": [
    "<h1 style=\"font-family:courier;\">Analysis Of Market Trend Using Markov Chain</h1>"
   ]
  },
  {
   "cell_type": "markdown",
   "metadata": {},
   "source": [
    "<p style=\"font-family:courier;\">Each day's change in closing price is calculated for the past 20 trading days and is divided into 3 states:<br>\n",
    "    <ol style=\"font-family:courier;\">\n",
    "        <li>Up: > 10 pips</li>\n",
    "        <li>Zero-plus: >= -10 pips and <= 10 pips</li>\n",
    "        <li>Down: < -10 pips</li>\n",
    "    </ol>\n",
    "</p>\n",
    "\n",
    "<p style=\"font-family:courier;text-align:justify;\">Up, zero-plus and down are represented by 0, 1 and 2 respectively. Each day's state transition is observed and a count is added to the respective row and column of the matrix, A:</p>\n",
    "\n",
    "$$A = \\begin{array}{c c} &\n",
    "\\begin{array}{c c c} 0 & 1 & 2 \\\\\n",
    "\\end{array}\n",
    "\\\\\n",
    "\\begin{array}{c c c}\n",
    "0 \\\\\n",
    "1\\\\\n",
    "2\n",
    "\\end{array}\n",
    "&\n",
    "\\left[\n",
    "\\begin{array}{c c c}\n",
    "a11 & a12 & a13 \\\\\n",
    "a21 & a22 & a23 \\\\\n",
    "a31 & a32 & a33\n",
    "\\end{array}\n",
    "\\right]\n",
    "\\end{array}$$"
   ]
  },
  {
   "cell_type": "markdown",
   "metadata": {},
   "source": [
    "<p style=\"font-family:courier;\">\n",
    "Consider an example: a state transition from 0 to 2.\n",
    "</p>"
   ]
  },
  {
   "cell_type": "markdown",
   "metadata": {},
   "source": [
    "|Previous State/Current State|0|1|2|\n",
    "|---|---|---|---|\n",
    "|0|0|0|1|\n",
    "|1|0|0|0|\n",
    "|2|0|0|0|"
   ]
  },
  {
   "cell_type": "markdown",
   "metadata": {},
   "source": [
    "<p style=\"font-family:courier;\">\n",
    "The total number of up: a1 = a11 + a12 + a13<br>\n",
    "The total number of zero-plus: a2 = a21 + a22 + a32<br>\n",
    "The total number of down: a3 = a31 + a32 + a33\n",
    "</p>"
   ]
  },
  {
   "cell_type": "markdown",
   "metadata": {},
   "source": [
    "<p style=\"font-family:courier;\">In progress ...</p>"
   ]
  }
 ],
 "metadata": {
  "kernelspec": {
   "display_name": "Python 3",
   "language": "python",
   "name": "python3"
  },
  "language_info": {
   "codemirror_mode": {
    "name": "ipython",
    "version": 3
   },
   "file_extension": ".py",
   "mimetype": "text/x-python",
   "name": "python",
   "nbconvert_exporter": "python",
   "pygments_lexer": "ipython3",
   "version": "3.7.3"
  }
 },
 "nbformat": 4,
 "nbformat_minor": 2
}
